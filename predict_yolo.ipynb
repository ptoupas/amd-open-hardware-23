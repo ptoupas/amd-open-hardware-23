{
 "cells": [
  {
   "cell_type": "code",
   "execution_count": 18,
   "metadata": {},
   "outputs": [],
   "source": [
    "import cv2\n",
    "import toml\n",
    "import sys\n",
    "import os\n",
    "import time\n",
    "from IPython.display import display, Image, clear_output\n",
    "\n",
    "sys.path.append(os.path.abspath(\"data_management\"))\n",
    "sys.path.append(os.path.abspath(\"onnx_models\"))\n",
    "\n",
    "import data_preprocessing as dprep\n",
    "import data_postprocessing as dpostp\n",
    "import onnx_inference as onnx_inf\n",
    "\n",
    "%matplotlib inline"
   ]
  },
  {
   "cell_type": "code",
   "execution_count": 19,
   "metadata": {},
   "outputs": [],
   "source": [
    "yolo_cfg = toml.load('yolov5n.toml')\n",
    "imgsz = yolo_cfg['input_data']['imgsz']\n",
    "conf_thres = yolo_cfg['predictor']['conf_thres']\n",
    "iou_thres = yolo_cfg['predictor']['iou_thres']\n",
    "classes = yolo_cfg['predictor']['classes']\n",
    "if not classes:\n",
    "    classes = None\n",
    "onnx_model_path = yolo_cfg['onnx_model_path']\n",
    "visualize = yolo_cfg['visualize']\n",
    "out_img_path = yolo_cfg['out_img_path']\n",
    "input_source = yolo_cfg['source']"
   ]
  },
  {
   "cell_type": "code",
   "execution_count": 20,
   "metadata": {},
   "outputs": [],
   "source": [
    "stride, names, session, output_names = onnx_inf.load_model(onnx_model_path)"
   ]
  },
  {
   "cell_type": "code",
   "execution_count": 29,
   "metadata": {},
   "outputs": [
    {
     "name": "stdout",
     "output_type": "stream",
     "text": [
      "\n"
     ]
    },
    {
     "ename": "AttributeError",
     "evalue": "'cv2.VideoCapture' object has no attribute 'destroyAllWindows'",
     "output_type": "error",
     "traceback": [
      "\u001b[0;31m---------------------------------------------------------------------------\u001b[0m",
      "\u001b[0;31mKeyboardInterrupt\u001b[0m                         Traceback (most recent call last)",
      "Cell \u001b[0;32mIn[29], line 23\u001b[0m\n\u001b[1;32m     22\u001b[0m start_time \u001b[39m=\u001b[39m time\u001b[39m.\u001b[39mperf_counter() \n\u001b[0;32m---> 23\u001b[0m predictions \u001b[39m=\u001b[39m onnx_inf\u001b[39m.\u001b[39;49mmodel_inf(img, session, output_names)\n\u001b[1;32m     24\u001b[0m pred_time \u001b[39m=\u001b[39m (time\u001b[39m.\u001b[39mperf_counter() \u001b[39m-\u001b[39m start_time)\u001b[39m*\u001b[39m\u001b[39m1000\u001b[39m\n",
      "File \u001b[0;32m~/Development/amd-open-hardware-23/onnx_models/onnx_inference.py:17\u001b[0m, in \u001b[0;36mmodel_inf\u001b[0;34m(img, session, output_names)\u001b[0m\n\u001b[1;32m     15\u001b[0m \u001b[39mdef\u001b[39;00m \u001b[39mmodel_inf\u001b[39m(img, session, output_names):\n\u001b[1;32m     16\u001b[0m     \u001b[39m# inference\u001b[39;00m\n\u001b[0;32m---> 17\u001b[0m     outputs \u001b[39m=\u001b[39m session\u001b[39m.\u001b[39;49mrun(output_names, {session\u001b[39m.\u001b[39;49mget_inputs()[\u001b[39m0\u001b[39;49m]\u001b[39m.\u001b[39;49mname: img})\n\u001b[1;32m     19\u001b[0m     \u001b[39mreturn\u001b[39;00m outputs[\u001b[39m0\u001b[39m] \u001b[39mif\u001b[39;00m \u001b[39mlen\u001b[39m(outputs) \u001b[39m==\u001b[39m \u001b[39m1\u001b[39m \u001b[39melse\u001b[39;00m [x \u001b[39mfor\u001b[39;00m x \u001b[39min\u001b[39;00m outputs]\n",
      "File \u001b[0;32m~/.local/lib/python3.10/site-packages/onnxruntime/capi/onnxruntime_inference_collection.py:200\u001b[0m, in \u001b[0;36mSession.run\u001b[0;34m(self, output_names, input_feed, run_options)\u001b[0m\n\u001b[1;32m    199\u001b[0m \u001b[39mtry\u001b[39;00m:\n\u001b[0;32m--> 200\u001b[0m     \u001b[39mreturn\u001b[39;00m \u001b[39mself\u001b[39;49m\u001b[39m.\u001b[39;49m_sess\u001b[39m.\u001b[39;49mrun(output_names, input_feed, run_options)\n\u001b[1;32m    201\u001b[0m \u001b[39mexcept\u001b[39;00m C\u001b[39m.\u001b[39mEPFail \u001b[39mas\u001b[39;00m err:\n",
      "\u001b[0;31mKeyboardInterrupt\u001b[0m: ",
      "\nDuring handling of the above exception, another exception occurred:\n",
      "\u001b[0;31mAttributeError\u001b[0m                            Traceback (most recent call last)",
      "Cell \u001b[0;32mIn[29], line 70\u001b[0m\n\u001b[1;32m     68\u001b[0m \u001b[39mprint\u001b[39m(e)\n\u001b[1;32m     69\u001b[0m cap\u001b[39m.\u001b[39mrelease()\n\u001b[0;32m---> 70\u001b[0m cap\u001b[39m.\u001b[39;49mdestroyAllWindows()\n",
      "\u001b[0;31mAttributeError\u001b[0m: 'cv2.VideoCapture' object has no attribute 'destroyAllWindows'"
     ]
    }
   ],
   "source": [
    "if input_source == 'webcam':\n",
    "    cap = cv2.VideoCapture(0) \n",
    "    # display_handle=display(None, display_id=True)\n",
    "else:\n",
    "    cap = cv2.VideoCapture(input_source)\n",
    "\n",
    "frame_count = 0\n",
    "try:\n",
    "    while(cap.isOpened()):\n",
    "        # Capture frame-by-frame\n",
    "        ret, frame = cap.read()\n",
    "\n",
    "        # Check that frame is not empty\n",
    "        if ret:\n",
    "            orig_img = frame.copy()\n",
    "\n",
    "            start_time = time.perf_counter()\n",
    "            img = cv2.cvtColor(frame, cv2.COLOR_BGR2RGB)\n",
    "            img = dprep.img_preprocess(img, imgsz, stride)\n",
    "            preprocess_time = (time.perf_counter() - start_time) * 1000\n",
    "\n",
    "            start_time = time.perf_counter() \n",
    "            predictions = onnx_inf.model_inf(img, session, output_names)\n",
    "            pred_time = (time.perf_counter() - start_time)*1000\n",
    "\n",
    "            start_time = time.perf_counter()\n",
    "            predictions = dpostp.yolo_nms(predictions, conf_thres, iou_thres, classes)\n",
    "            postprocess_time = (time.perf_counter() - start_time) * 1000\n",
    "\n",
    "            visualize_time = 0\n",
    "            for pred in predictions:\n",
    "                \n",
    "                start_time = time.perf_counter()\n",
    "                pred[:, :4] = dpostp.scale_boxes((imgsz, imgsz), pred[:, :4], orig_img.shape).round()\n",
    "                postprocess_time += (time.perf_counter() - start_time) * 1000\n",
    "                \n",
    "                start_time = time.perf_counter()\n",
    "                for p in pred:\n",
    "                    # print({\"object\":names[int(p[5])], \"x\":int(p[0]), \"y\":int(p[1]), \"width\":int(p[2])-int(p[0]), \"height\":int(p[3])-int(p[1])})\n",
    "\n",
    "                    if visualize:\n",
    "                        cv2.rectangle(orig_img, (int(p[0]), int(p[1])), (int(p[2]), int(p[3])), (0, 255, 0), 2)\n",
    "                        cv2.putText(orig_img, names[int(p[5])], (int(p[0]), int(p[1])), cv2.FONT_HERSHEY_SIMPLEX, 1, (0, 255, 0), 2)\n",
    "                visualize_time += (time.perf_counter() - start_time) * 1000\n",
    "\n",
    "            start_time = time.perf_counter()\n",
    "            if visualize:\n",
    "                # cv2.imwrite(os.path.join(out_img_path, f'{frame_count}.png'), orig_img)\n",
    "\n",
    "                # add the time for inference\n",
    "                cv2.putText(orig_img, f\"latency: {pred_time:.4f} ms\", (0, 50), cv2.FONT_HERSHEY_SIMPLEX, 1, (0, 0, 255), 2)\n",
    "                cv2.putText(orig_img, f\"preprocess: {preprocess_time:.4f} ms\", (0, 50+30), cv2.FONT_HERSHEY_SIMPLEX, 1, (255, 0, 255), 2)\n",
    "                cv2.putText(orig_img, f\"postprocess: {postprocess_time:.4f} ms\", (0, 50+60), cv2.FONT_HERSHEY_SIMPLEX, 1, (255, 0, 255), 2)\n",
    "                visualize_time += (time.perf_counter() - start_time) * 1000\n",
    "                cv2.putText(orig_img, f\"visualize: {visualize_time:.4f} ms\", (0, 50+90), cv2.FONT_HERSHEY_SIMPLEX, 1, (255, 0, 255), 2)\n",
    "                cv2.putText(orig_img, f\"total: {(pred_time+preprocess_time+postprocess_time+visualize_time):.4f} ms\", (0, 50+120), cv2.FONT_HERSHEY_SIMPLEX, 1, (255, 0, 255), 2)\n",
    "                cv2.putText(orig_img, f\"fps: {1000/(pred_time+preprocess_time+postprocess_time+visualize_time):.4f}\", (0, 50+150), cv2.FONT_HERSHEY_SIMPLEX, 1, (255, 0, 255), 2)\n",
    "                \n",
    "                _, disp_img = cv2.imencode('.jpg', orig_img)\n",
    "                img_show = Image(data=disp_img)\n",
    "                display(img_show)\n",
    "                clear_output(wait=True)\n",
    "                # display_handle.update(Image(data=disp_img.tobytes()))\n",
    "                frame_count += 1\n",
    "        else:\n",
    "            break\n",
    "except KeyboardInterrupt as e:\n",
    "    print(e)\n",
    "    cap.release()"
   ]
  },
  {
   "cell_type": "code",
   "execution_count": 26,
   "metadata": {},
   "outputs": [
    {
     "name": "stdout",
     "output_type": "stream",
     "text": [
      "'cv2.VideoCapture' object has no attribute 'destroyAllWindows'\n"
     ]
    }
   ],
   "source": [
    "try:\n",
    "    cap.release()\n",
    "    cap.destroyAllWindows()\n",
    "    # display_handle.update(None)\n",
    "except Exception as e:\n",
    "    print(e)\n",
    "    pass"
   ]
  },
  {
   "cell_type": "code",
   "execution_count": null,
   "metadata": {},
   "outputs": [],
   "source": []
  }
 ],
 "metadata": {
  "kernelspec": {
   "display_name": "Python 3 (ipykernel)",
   "language": "python",
   "name": "python3"
  },
  "language_info": {
   "codemirror_mode": {
    "name": "ipython",
    "version": 3
   },
   "file_extension": ".py",
   "mimetype": "text/x-python",
   "name": "python",
   "nbconvert_exporter": "python",
   "pygments_lexer": "ipython3",
   "version": "3.10.12"
  }
 },
 "nbformat": 4,
 "nbformat_minor": 2
}
